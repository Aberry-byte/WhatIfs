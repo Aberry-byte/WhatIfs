{
 "cells": [
  {
   "cell_type": "code",
   "execution_count": 7,
   "metadata": {},
   "outputs": [],
   "source": [
    "import math"
   ]
  },
  {
   "cell_type": "code",
   "execution_count": 8,
   "metadata": {},
   "outputs": [],
   "source": [
    "SPHERE_RADIUS = 6_378  # km\n",
    "THRESHOLD     = 1 # km (distance the two points have to be separated by to see each other)"
   ]
  },
  {
   "cell_type": "code",
   "execution_count": 9,
   "metadata": {},
   "outputs": [],
   "source": [
    "def get_sphere_surface_area(radius: float) -> float:\n",
    "    return 4.0 * math.pi * (radius ** 2)"
   ]
  },
  {
   "cell_type": "code",
   "execution_count": 10,
   "metadata": {},
   "outputs": [
    {
     "name": "stdout",
     "output_type": "stream",
     "text": [
      "rect = 6,378 x 80,148.3117783828\n"
     ]
    }
   ],
   "source": [
    "# create grid (rect) with same surface area\n",
    "# going to use SPHERE_RADIUS as height\n",
    "width = get_sphere_surface_area(SPHERE_RADIUS) / SPHERE_RADIUS\n",
    "\n",
    "print(f\"rect = {SPHERE_RADIUS:,} x {width:,}\")"
   ]
  },
  {
   "cell_type": "code",
   "execution_count": null,
   "metadata": {},
   "outputs": [],
   "source": []
  }
 ],
 "metadata": {
  "kernelspec": {
   "display_name": "Python 3.10.4 ('WhatIf')",
   "language": "python",
   "name": "python3"
  },
  "language_info": {
   "codemirror_mode": {
    "name": "ipython",
    "version": 3
   },
   "file_extension": ".py",
   "mimetype": "text/x-python",
   "name": "python",
   "nbconvert_exporter": "python",
   "pygments_lexer": "ipython3",
   "version": "3.10.4"
  },
  "orig_nbformat": 4,
  "vscode": {
   "interpreter": {
    "hash": "5dad1c6471d610af63e525ef3d2ca9f367056eb9bc95ec42e0af05ba8ffdd7c0"
   }
  }
 },
 "nbformat": 4,
 "nbformat_minor": 2
}
